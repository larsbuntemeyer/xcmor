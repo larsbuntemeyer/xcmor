{
 "cells": [
  {
   "cell_type": "markdown",
   "metadata": {},
   "source": [
    "# Introduction to `xcmor`\n",
    "\n",
    "This notebook is a brief introduction to `xcmor`'s current capabilities."
   ]
  },
  {
   "cell_type": "code",
   "execution_count": null,
   "metadata": {
    "ExecuteTime": {
     "end_time": "2020-07-28T03:18:03.264499Z",
     "start_time": "2020-07-28T03:18:01.706628Z"
    }
   },
   "outputs": [],
   "source": [
    "import xarray as xr\n",
    "\n",
    "import xcmor\n",
    "\n",
    "# For this notebooks, it's nicer if we don't show the array values by default\n",
    "xr.set_options(display_expand_data=False)"
   ]
  },
  {
   "cell_type": "markdown",
   "metadata": {},
   "source": [
    "`xcmor` works best when `xarray` keeps attributes by default."
   ]
  },
  {
   "cell_type": "code",
   "execution_count": null,
   "metadata": {},
   "outputs": [],
   "source": [
    "xr.set_options(keep_attrs=True)"
   ]
  },
  {
   "cell_type": "markdown",
   "metadata": {},
   "source": [
    "We use an example dataset with a 2D temperature field. Let's load a regular gridded dataset:"
   ]
  },
  {
   "cell_type": "code",
   "execution_count": null,
   "metadata": {},
   "outputs": [],
   "source": [
    "from xcmor.datasets import reg_ds\n",
    "\n",
    "reg_ds"
   ]
  },
  {
   "cell_type": "markdown",
   "metadata": {},
   "source": [
    "Also, let's load some example cmor tables, e.g."
   ]
  },
  {
   "cell_type": "code",
   "execution_count": null,
   "metadata": {},
   "outputs": [],
   "source": [
    "from xcmor.tests.tables import coords, dataset, mip_amon"
   ]
  },
  {
   "cell_type": "markdown",
   "metadata": {},
   "source": [
    "These tables are just some subsets of the original [CMIP6 CMOR tables](https://github.com/PCMDI/cmip6-cmor-tables). Now, we can use those tables to rewrite variable attributes acoording to CF conventions and the CMIP6 data request using"
   ]
  },
  {
   "cell_type": "code",
   "execution_count": null,
   "metadata": {},
   "outputs": [],
   "source": [
    "ds_cmor = xcmor.cmorize(\n",
    "    reg_ds.rename({\"temperature\": \"tas\"}).tas,\n",
    "    mip_table=mip_amon,\n",
    "    coords_table=coords,\n",
    "    dataset_table=dataset,\n",
    ")\n",
    "ds_cmor"
   ]
  },
  {
   "cell_type": "markdown",
   "metadata": {},
   "source": [
    "## The Cmorizer class"
   ]
  },
  {
   "cell_type": "markdown",
   "metadata": {},
   "source": [
    "`xcmor` comes with some pre-configures table options through the `Cmorizer` class. A simple example for CMIP6 would be:"
   ]
  },
  {
   "cell_type": "code",
   "execution_count": null,
   "metadata": {},
   "outputs": [],
   "source": [
    "from xcmor import Cmorizer\n",
    "\n",
    "cmor = Cmorizer(project=\"CMIP6\")\n",
    "ds_out = cmor.cmorize(\n",
    "    reg_ds.rename(temperature=\"tas\").tas, \"Amon\", cmor.tables[\"input_example\"]\n",
    ")\n",
    "ds_out"
   ]
  },
  {
   "cell_type": "markdown",
   "metadata": {},
   "source": [
    "Let's write this to NetCDF and use the [compliance checker](https://github.com/ioos/compliance-checker) to find issues:"
   ]
  },
  {
   "cell_type": "code",
   "execution_count": null,
   "metadata": {},
   "outputs": [],
   "source": [
    "ds_out.to_netcdf(\"tas.nc\")"
   ]
  },
  {
   "cell_type": "code",
   "execution_count": null,
   "metadata": {},
   "outputs": [],
   "source": [
    "!compliance-checker -t cf:1.7 tas.nc"
   ]
  }
 ],
 "metadata": {
  "kernelspec": {
   "display_name": "Python 3 (ipykernel)",
   "language": "python",
   "name": "python3"
  },
  "language_info": {
   "codemirror_mode": {
    "name": "ipython",
    "version": 3
   },
   "file_extension": ".py",
   "mimetype": "text/x-python",
   "name": "python",
   "nbconvert_exporter": "python",
   "pygments_lexer": "ipython3",
   "version": "3.11.4"
  },
  "toc": {
   "base_numbering": 1,
   "nav_menu": {},
   "number_sections": true,
   "sideBar": true,
   "skip_h1_title": false,
   "title_cell": "Table of Contents",
   "title_sidebar": "Contents",
   "toc_cell": true,
   "toc_position": {},
   "toc_section_display": true,
   "toc_window_display": true
  },
  "widgets": {
   "application/vnd.jupyter.widget-state+json": {
    "state": {},
    "version_major": 2,
    "version_minor": 0
   }
  }
 },
 "nbformat": 4,
 "nbformat_minor": 4
}
